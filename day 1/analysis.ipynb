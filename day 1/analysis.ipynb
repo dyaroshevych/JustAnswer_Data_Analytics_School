{
 "cells": [
  {
   "cell_type": "markdown",
   "metadata": {},
   "source": [
    "#  Analysis of OnlySolution's Customer Acquisition Activities in 2020\n",
    "This is an analysis targeted to identify significant trends and find potential areas for optimization."
   ]
  },
  {
   "cell_type": "markdown",
   "metadata": {},
   "source": [
    "## Import all needed libraries"
   ]
  },
  {
   "cell_type": "code",
   "execution_count": 1,
   "metadata": {},
   "outputs": [],
   "source": [
    "import pandas as pd\n",
    "import matplotlib.pyplot as plt"
   ]
  },
  {
   "cell_type": "markdown",
   "metadata": {},
   "source": [
    "## Prepare the data"
   ]
  },
  {
   "cell_type": "code",
   "execution_count": 2,
   "metadata": {},
   "outputs": [],
   "source": [
    "# Read the data\n",
    "df = pd.read_csv('data/law-keyword.csv')\n",
    "\n",
    "# Remove any columns that start with 'Unnamed'\n",
    "df = df.loc[:, ~df.columns.str.startswith('Unnamed')]\n",
    "\n",
    "# Remove columns where Clicks < Conversions\n",
    "df = df.loc[df['Clicks'] >= df['Conversions']]\n",
    "\n",
    "# Save formatted data\n",
    "df.to_csv('data/category-campaign.csv')\n",
    "\n",
    "# Group the data by keywords\n",
    "df = df.groupby('Keyword').sum()"
   ]
  },
  {
   "cell_type": "markdown",
   "metadata": {},
   "source": [
    "## Add columns with CTR, CR, Margin, ROAS, CPC, CPA"
   ]
  },
  {
   "cell_type": "code",
   "execution_count": 3,
   "metadata": {},
   "outputs": [],
   "source": [
    "# Add CTR (Click through Rate) = Clicks / Impressions\n",
    "df['CTR'] = df['Clicks'] / df['Impressions']\n",
    "\n",
    "# Add CR (Conversion Rate) = Conversions / Clicks\n",
    "df['CR'] = df['Conversions'] / df['Clicks']\n",
    "\n",
    "# Add Margin = Revenue - Cost\n",
    "df['Margin'] = df['Revenue'] - df['Cost']\n",
    "\n",
    "# Add ROAS (Return on Ad Spend) = Revenue / Cost\n",
    "df['ROAS'] = df['Revenue'] / df['Cost']\n",
    "\n",
    "# Add CPC (Cost per Click) = Cost / Clicks\n",
    "df['CPC'] = df['Cost'] / df['Clicks']\n",
    "\n",
    "# Add CPA (Cost per Acquisition) = Cost / Conversions\n",
    "df['CPA'] = df['Cost'] / df['Conversions']"
   ]
  },
  {
   "cell_type": "markdown",
   "metadata": {},
   "source": [
    "## Analyze the worst performing keywords"
   ]
  },
  {
   "cell_type": "code",
   "execution_count": 4,
   "metadata": {},
   "outputs": [
    {
     "data": {
      "text/html": [
       "<div>\n",
       "<style scoped>\n",
       "    .dataframe tbody tr th:only-of-type {\n",
       "        vertical-align: middle;\n",
       "    }\n",
       "\n",
       "    .dataframe tbody tr th {\n",
       "        vertical-align: top;\n",
       "    }\n",
       "\n",
       "    .dataframe thead th {\n",
       "        text-align: right;\n",
       "    }\n",
       "</style>\n",
       "<table border=\"1\" class=\"dataframe\">\n",
       "  <thead>\n",
       "    <tr style=\"text-align: right;\">\n",
       "      <th></th>\n",
       "      <th>Margin</th>\n",
       "    </tr>\n",
       "    <tr>\n",
       "      <th>Keyword</th>\n",
       "      <th></th>\n",
       "    </tr>\n",
       "  </thead>\n",
       "  <tbody>\n",
       "    <tr>\n",
       "      <th>free legal advice</th>\n",
       "      <td>-2506.02</td>\n",
       "    </tr>\n",
       "    <tr>\n",
       "      <th>talk to a lawyer for free online now</th>\n",
       "      <td>-533.01</td>\n",
       "    </tr>\n",
       "    <tr>\n",
       "      <th>contact a lawyer for free consultation</th>\n",
       "      <td>-479.40</td>\n",
       "    </tr>\n",
       "    <tr>\n",
       "      <th>chat online with a lawyer for free now</th>\n",
       "      <td>-431.44</td>\n",
       "    </tr>\n",
       "    <tr>\n",
       "      <th>free attorneys</th>\n",
       "      <td>-422.21</td>\n",
       "    </tr>\n",
       "    <tr>\n",
       "      <th>+free +legal +lawyer +advice</th>\n",
       "      <td>-397.06</td>\n",
       "    </tr>\n",
       "    <tr>\n",
       "      <th>free lawyer advice</th>\n",
       "      <td>-354.19</td>\n",
       "    </tr>\n",
       "    <tr>\n",
       "      <th>attorney free</th>\n",
       "      <td>-320.25</td>\n",
       "    </tr>\n",
       "    <tr>\n",
       "      <th>free attorney</th>\n",
       "      <td>-286.83</td>\n",
       "    </tr>\n",
       "    <tr>\n",
       "      <th>ask a lawyer free</th>\n",
       "      <td>-250.39</td>\n",
       "    </tr>\n",
       "    <tr>\n",
       "      <th>lawyers free legal advice</th>\n",
       "      <td>-243.90</td>\n",
       "    </tr>\n",
       "    <tr>\n",
       "      <th>free legal aid</th>\n",
       "      <td>-243.63</td>\n",
       "    </tr>\n",
       "    <tr>\n",
       "      <th>free legal opinion online</th>\n",
       "      <td>-206.92</td>\n",
       "    </tr>\n",
       "    <tr>\n",
       "      <th>free legal information online</th>\n",
       "      <td>-197.44</td>\n",
       "    </tr>\n",
       "    <tr>\n",
       "      <th>free lawyer consultation online</th>\n",
       "      <td>-157.60</td>\n",
       "    </tr>\n",
       "  </tbody>\n",
       "</table>\n",
       "</div>"
      ],
      "text/plain": [
       "                                         Margin\n",
       "Keyword                                        \n",
       "free legal advice                      -2506.02\n",
       "talk to a lawyer for free online now    -533.01\n",
       "contact a lawyer for free consultation  -479.40\n",
       "chat online with a lawyer for free now  -431.44\n",
       "free attorneys                          -422.21\n",
       "+free +legal +lawyer +advice            -397.06\n",
       "free lawyer advice                      -354.19\n",
       "attorney free                           -320.25\n",
       "free attorney                           -286.83\n",
       "ask a lawyer free                       -250.39\n",
       "lawyers free legal advice               -243.90\n",
       "free legal aid                          -243.63\n",
       "free legal opinion online               -206.92\n",
       "free legal information online           -197.44\n",
       "free lawyer consultation online         -157.60"
      ]
     },
     "execution_count": 4,
     "metadata": {},
     "output_type": "execute_result"
    }
   ],
   "source": [
    "# Show top 15 keywords with the lowest Margin value\n",
    "df.sort_values('Margin').head(15)[['Margin']]"
   ]
  },
  {
   "cell_type": "markdown",
   "metadata": {},
   "source": [
    "As we can see, all these searches contain 'free'. Let's see whether there are searches that contain 'free' that bring positive revenue."
   ]
  },
  {
   "cell_type": "code",
   "execution_count": 5,
   "metadata": {},
   "outputs": [
    {
     "name": "stdout",
     "output_type": "stream",
     "text": [
      "Number of searches that contain 'free' and are profitable: 0.\n",
      "Average loss from searches that contain 'free': -281.01607142857154.\n"
     ]
    }
   ],
   "source": [
    "num_positive = df.loc[df.index.str.contains('free') & (df['Margin'] >= 0)].shape[0]\n",
    "avg_loss = df.loc[df.index.str.contains('free')]['Margin'].mean()\n",
    "\n",
    "print(f'Number of searches that contain \\'free\\' and are profitable: {num_positive}.')\n",
    "print(f'Average loss from searches that contain \\'free\\': {avg_loss}.')"
   ]
  },
  {
   "cell_type": "markdown",
   "metadata": {},
   "source": [
    "We should definitely remove our ads from searches that contain 'free' as they have never been profitable, according to the data."
   ]
  },
  {
   "cell_type": "code",
   "execution_count": 6,
   "metadata": {},
   "outputs": [
    {
     "data": {
      "text/html": [
       "<div>\n",
       "<style scoped>\n",
       "    .dataframe tbody tr th:only-of-type {\n",
       "        vertical-align: middle;\n",
       "    }\n",
       "\n",
       "    .dataframe tbody tr th {\n",
       "        vertical-align: top;\n",
       "    }\n",
       "\n",
       "    .dataframe thead th {\n",
       "        text-align: right;\n",
       "    }\n",
       "</style>\n",
       "<table border=\"1\" class=\"dataframe\">\n",
       "  <thead>\n",
       "    <tr style=\"text-align: right;\">\n",
       "      <th></th>\n",
       "      <th>Impressions</th>\n",
       "      <th>Margin</th>\n",
       "    </tr>\n",
       "    <tr>\n",
       "      <th>Keyword</th>\n",
       "      <th></th>\n",
       "      <th></th>\n",
       "    </tr>\n",
       "  </thead>\n",
       "  <tbody>\n",
       "    <tr>\n",
       "      <th>you tupe</th>\n",
       "      <td>106368</td>\n",
       "      <td>-34.60</td>\n",
       "    </tr>\n",
       "    <tr>\n",
       "      <th>tupe you</th>\n",
       "      <td>93818</td>\n",
       "      <td>-33.13</td>\n",
       "    </tr>\n",
       "    <tr>\n",
       "      <th>criminal defense lawyer free consultation</th>\n",
       "      <td>63479</td>\n",
       "      <td>-28.18</td>\n",
       "    </tr>\n",
       "    <tr>\n",
       "      <th>real</th>\n",
       "      <td>58075</td>\n",
       "      <td>-10.07</td>\n",
       "    </tr>\n",
       "    <tr>\n",
       "      <th>remove</th>\n",
       "      <td>34898</td>\n",
       "      <td>-57.20</td>\n",
       "    </tr>\n",
       "    <tr>\n",
       "      <th>los angeles criminal lawyer</th>\n",
       "      <td>15416</td>\n",
       "      <td>-3.98</td>\n",
       "    </tr>\n",
       "    <tr>\n",
       "      <th>philadelphia +pa lawyers</th>\n",
       "      <td>14954</td>\n",
       "      <td>-4.31</td>\n",
       "    </tr>\n",
       "    <tr>\n",
       "      <th>+pa law for</th>\n",
       "      <td>14310</td>\n",
       "      <td>-10.68</td>\n",
       "    </tr>\n",
       "    <tr>\n",
       "      <th>with legal aid</th>\n",
       "      <td>8247</td>\n",
       "      <td>-9.48</td>\n",
       "    </tr>\n",
       "    <tr>\n",
       "      <th>florida lawyers lawyer</th>\n",
       "      <td>8171</td>\n",
       "      <td>-1.42</td>\n",
       "    </tr>\n",
       "    <tr>\n",
       "      <th>can attorney</th>\n",
       "      <td>4053</td>\n",
       "      <td>-6.28</td>\n",
       "    </tr>\n",
       "    <tr>\n",
       "      <th>ask a law</th>\n",
       "      <td>3263</td>\n",
       "      <td>-13.29</td>\n",
       "    </tr>\n",
       "    <tr>\n",
       "      <th>what are lawsuits</th>\n",
       "      <td>406</td>\n",
       "      <td>-5.73</td>\n",
       "    </tr>\n",
       "    <tr>\n",
       "      <th>what's a lawsuit</th>\n",
       "      <td>394</td>\n",
       "      <td>-5.79</td>\n",
       "    </tr>\n",
       "    <tr>\n",
       "      <th>what is a lawsuit</th>\n",
       "      <td>393</td>\n",
       "      <td>-5.39</td>\n",
       "    </tr>\n",
       "  </tbody>\n",
       "</table>\n",
       "</div>"
      ],
      "text/plain": [
       "                                           Impressions  Margin\n",
       "Keyword                                                       \n",
       "you tupe                                        106368  -34.60\n",
       "tupe you                                         93818  -33.13\n",
       "criminal defense lawyer free consultation        63479  -28.18\n",
       "real                                             58075  -10.07\n",
       "remove                                           34898  -57.20\n",
       "los angeles criminal lawyer                      15416   -3.98\n",
       "philadelphia +pa lawyers                         14954   -4.31\n",
       "+pa law for                                      14310  -10.68\n",
       "with legal aid                                    8247   -9.48\n",
       "florida lawyers lawyer                            8171   -1.42\n",
       "can attorney                                      4053   -6.28\n",
       "ask a law                                         3263  -13.29\n",
       "what are lawsuits                                  406   -5.73\n",
       "what's a lawsuit                                   394   -5.79\n",
       "what is a lawsuit                                  393   -5.39"
      ]
     },
     "execution_count": 6,
     "metadata": {},
     "output_type": "execute_result"
    }
   ],
   "source": [
    "# Find all keywords that did not bring any money, sorted by the number of Impressions\n",
    "df.loc[df['Revenue'] == 0].sort_values('Impressions', ascending=False)[['Impressions', 'Margin']]"
   ]
  },
  {
   "cell_type": "markdown",
   "metadata": {},
   "source": [
    "Obviously, searches that have never brought us any revenue should also be removed. Luckily, there are only 15 of them and we haven't lost that much money on them yet."
   ]
  },
  {
   "cell_type": "markdown",
   "metadata": {},
   "source": [
    "## Analyze request lengths"
   ]
  },
  {
   "cell_type": "code",
   "execution_count": 7,
   "metadata": {},
   "outputs": [
    {
     "data": {
      "image/png": "[encoded data removed]",
      "text/plain": [
       "<Figure size 432x288 with 1 Axes>"
      ]
     },
     "metadata": {
      "needs_background": "light"
     },
     "output_type": "display_data"
    }
   ],
   "source": [
    "# Add 'Request Length' column\n",
    "df['Request Length'] = df.index.str.len()\n",
    "\n",
    "# Plot pure revenue by request length\n",
    "df.groupby('Request Length').sum()['Margin'].plot()\n",
    "plt.axhline(y=0, color='r', linestyle='--')\n",
    "\n",
    "plt.style.use('ggplot')\n",
    "plt.title('Pure Revenue by Request Length')\n",
    "plt.ylabel(\"Revenue, $\")\n",
    "\n",
    "plt.show()"
   ]
  },
  {
   "cell_type": "code",
   "execution_count": 8,
   "metadata": {},
   "outputs": [
    {
     "data": {
      "text/plain": [
       "-1515.4400000000012"
      ]
     },
     "execution_count": 8,
     "metadata": {},
     "output_type": "execute_result"
    }
   ],
   "source": [
    "# Calculate loss size for requests with length over 35\n",
    "df.loc[df['Request Length'] >= 35]['Margin'].sum()"
   ]
  },
  {
   "cell_type": "code",
   "execution_count": 9,
   "metadata": {},
   "outputs": [
    {
     "data": {
      "image/png": "[encoded data removed]",
      "text/plain": [
       "<Figure size 432x288 with 1 Axes>"
      ]
     },
     "metadata": {},
     "output_type": "display_data"
    }
   ],
   "source": [
    "# Add 'Word Count' column\n",
    "df['Word Count'] = df.index.str.count(' ') + 1\n",
    "\n",
    "# Plot pure revenue by word count\n",
    "df.groupby('Word Count').sum()['Margin'].plot()\n",
    "plt.axhline(y=0, color='r', linestyle='--')\n",
    "\n",
    "plt.style.use('ggplot')\n",
    "plt.title('Pure Revenue by Word Count')\n",
    "plt.ylabel(\"Revenue, $\")\n",
    "\n",
    "plt.show()"
   ]
  },
  {
   "cell_type": "code",
   "execution_count": 10,
   "metadata": {},
   "outputs": [
    {
     "data": {
      "text/plain": [
       "-1425.4100000000012"
      ]
     },
     "execution_count": 10,
     "metadata": {},
     "output_type": "execute_result"
    }
   ],
   "source": [
    "# Calculate loss size for requests with word count over 5\n",
    "df.loc[df['Word Count'] >= 6]['Margin'].sum()"
   ]
  },
  {
   "cell_type": "markdown",
   "metadata": {},
   "source": [
    "Requests with length over 35 (or with word count over 5) are usually too specific and tend to be unprofitable for the company. Removing them completely will reduce yearly losses by more than $1500. The company should focus more on short and simple requests as they are usually the ones bringing the largest sums of money."
   ]
  }
 ],
 "metadata": {
  "kernelspec": {
   "display_name": "Python 3",
   "language": "python",
   "name": "python3"
  },
  "language_info": {
   "codemirror_mode": {
    "name": "ipython",
    "version": 3
   },
   "file_extension": ".py",
   "mimetype": "text/x-python",
   "name": "python",
   "nbconvert_exporter": "python",
   "pygments_lexer": "ipython3",
   "version": "3.8.5"
  }
 },
 "nbformat": 4,
 "nbformat_minor": 4
}
