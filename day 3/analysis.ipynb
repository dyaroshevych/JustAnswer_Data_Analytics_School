{
 "cells": [
  {
   "cell_type": "markdown",
   "metadata": {},
   "source": [
    "# OnlySolution's A/B Testing Business Case\n",
    "An analysis based on A/B testing on rating bar redesign. "
   ]
  },
  {
   "cell_type": "code",
   "execution_count": 1,
   "metadata": {},
   "outputs": [],
   "source": [
    "import pandas as pd\n",
    "import numpy as np\n",
    "import matplotlib.pyplot as plt"
   ]
  },
  {
   "cell_type": "markdown",
   "metadata": {},
   "source": [
    "## Prepare the data"
   ]
  },
  {
   "cell_type": "code",
   "execution_count": 2,
   "metadata": {},
   "outputs": [],
   "source": [
    "# Read the data\n",
    "df = pd.read_csv('data/rating-bar-dataset.csv')\n",
    "\n",
    "# Drop rows filled with NaN values\n",
    "df.dropna(how='all', inplace=True)\n",
    "\n",
    "df.drop(columns='CustomerID', inplace=True)\n",
    "\n",
    "# Replace NaN values with 0\n",
    "df.fillna(0, inplace=True)\n",
    "\n",
    "cols = []\n",
    "\n",
    "for i in range(1, 13):\n",
    "    cols += [f'M{i}Pay', f'M{i}Ref']\n",
    "\n",
    "df.columns = ['Device', 'Medium', 'Date', 'Category', 'TrialPay', 'TrialRef', *cols, 'Rated', 'Experiment']\n",
    "\n",
    "# Convert date strings to datetime objects\n",
    "df['Date'] = pd.to_datetime(df['Date'])\n",
    "\n",
    "# Replace all 'ppc' with 'PPC' in 'Medium' column\n",
    "df['Medium'].replace('ppc', 'PPC', inplace=True)"
   ]
  },
  {
   "cell_type": "markdown",
   "metadata": {},
   "source": [
    "## Add necessary columns"
   ]
  },
  {
   "cell_type": "code",
   "execution_count": 3,
   "metadata": {},
   "outputs": [],
   "source": [
    "# Add columns 'Payments' and 'Refunds' for total sums of payments and refunds\n",
    "df['Payments'] = df.loc[:, 'TrialPay':'M12Pay':2].sum(axis=1)\n",
    "df['Refunds'] = df.loc[:, 'TrialRef':'M12Ref':2].sum(axis=1)\n",
    "\n",
    "# Calculate LTV per customer based on new data\n",
    "df['LTV'] = df['Payments'] - df['Refunds']"
   ]
  },
  {
   "cell_type": "markdown",
   "metadata": {},
   "source": [
    "## Check if A/B customer groups are similar"
   ]
  },
  {
   "cell_type": "code",
   "execution_count": 4,
   "metadata": {},
   "outputs": [],
   "source": [
    "# Split customers into 3 groups: control, experiment and others\n",
    "control = df.loc[df['Experiment'] == 'Control']\n",
    "experiment = df.loc[df['Experiment'] == 'Variation']\n",
    "non_experiment = df.loc[df['Experiment'] == 'Not an Experiment']"
   ]
  },
  {
   "cell_type": "code",
   "execution_count": 5,
   "metadata": {},
   "outputs": [
    {
     "data": {
      "text/plain": [
       "(9.996883116883131, 10.05438144329898, 10.433963702913088)"
      ]
     },
     "execution_count": 5,
     "metadata": {},
     "output_type": "execute_result"
    }
   ],
   "source": [
    "# Compare mean LTV between groups\n",
    "control['LTV'].mean(), experiment['LTV'].mean(), non_experiment['LTV'].mean()"
   ]
  },
  {
   "cell_type": "markdown",
   "metadata": {},
   "source": [
    "As we can see, mean LTV is almost equal for groups A and B, and they both have a quite close mean LTV in comparison with customers that were not involved in the experiment. It means that the experiment is accuate."
   ]
  },
  {
   "cell_type": "markdown",
   "metadata": {},
   "source": [
    "## Calculate confidence interval for the experiment"
   ]
  },
  {
   "cell_type": "code",
   "execution_count": 6,
   "metadata": {},
   "outputs": [],
   "source": [
    "# Calculate conversion for control and experiment\n",
    "control = df.loc[df['Experiment'] == 'Control']['Rated']\n",
    "experiment = df.loc[df['Experiment'] == 'Variation']['Rated']\n",
    "\n",
    "control_conversion = (control.value_counts() / control.shape[0])[1]\n",
    "experiment_conversion = (experiment.value_counts() / experiment.shape[0])[1]"
   ]
  },
  {
   "cell_type": "code",
   "execution_count": 7,
   "metadata": {},
   "outputs": [],
   "source": [
    "# Calculate lift value\n",
    "lift = experiment_conversion / control_conversion - 1"
   ]
  },
  {
   "cell_type": "markdown",
   "metadata": {},
   "source": [
    "![Expected Lift for Experiment](img/lift.jpg)"
   ]
  },
  {
   "cell_type": "code",
   "execution_count": 8,
   "metadata": {},
   "outputs": [
    {
     "name": "stdout",
     "output_type": "stream",
     "text": [
      "Control standard error: 0.025463\n",
      "Experiment standard error: 0.0251179\n"
     ]
    }
   ],
   "source": [
    "# Calculate standard error for control and experiment\n",
    "control_std_error = (control_conversion * (1 - control_conversion) / control.shape[0]) ** 0.5\n",
    "experiment_std_error = (experiment_conversion * (1 - experiment_conversion) / experiment.shape[0]) ** 0.5\n",
    "\n",
    "print('Control standard error:', round(control_std_error, 7))\n",
    "print('Experiment standard error:', round(experiment_std_error, 7))"
   ]
  },
  {
   "cell_type": "markdown",
   "metadata": {},
   "source": [
    "![Standard Error for Control](img/control_standard_error.jpg)\n",
    "![Standard Error for Experiment](img/experiment_standard_error.jpg)"
   ]
  },
  {
   "cell_type": "code",
   "execution_count": 9,
   "metadata": {},
   "outputs": [
    {
     "name": "stdout",
     "output_type": "stream",
     "text": [
      "Experiment lift variance 0.005252547978403822\n"
     ]
    }
   ],
   "source": [
    "# Calculate lift variance for control and experiment\n",
    "experiment_lift_variance = ((experiment_conversion / control_conversion) ** 2 * \n",
    "                            (control_std_error ** 2 / control_conversion ** 2 + \n",
    "                             experiment_std_error ** 2 / experiment_conversion ** 2))\n",
    "    \n",
    "print('Experiment lift variance', experiment_lift_variance)"
   ]
  },
  {
   "cell_type": "markdown",
   "metadata": {},
   "source": [
    "![Lift Variance for Experiment](img/experiment_lift_variance.jpg)"
   ]
  },
  {
   "cell_type": "code",
   "execution_count": 10,
   "metadata": {},
   "outputs": [
    {
     "name": "stdout",
     "output_type": "stream",
     "text": [
      "Lower bound: -1.78%\n",
      "Lower bound: 22.06%\n"
     ]
    }
   ],
   "source": [
    "# Calculate lower and upper bound for the experiment [t-value is equal to 1.645]\n",
    "t_value = 1.645\n",
    "\n",
    "experiment_lower_bound = lift - t_value * experiment_lift_variance ** 0.5\n",
    "experiment_upper_bound = lift + t_value * experiment_lift_variance ** 0.5\n",
    "\n",
    "print(f'Lower bound: {round(experiment_lower_bound, 4) * 100}%')\n",
    "print(f'Lower bound: {round(experiment_upper_bound, 4) * 100}%')"
   ]
  },
  {
   "cell_type": "markdown",
   "metadata": {},
   "source": [
    "![Bounds for Experiment](img/experiment_lift_bounds.jpg)"
   ]
  },
  {
   "cell_type": "markdown",
   "metadata": {},
   "source": [
    "As we can see, confidence interval crosses 0. Therefore, we cannot say if the difference in conversion rate is significant. The test is not winner."
   ]
  }
 ],
 "metadata": {
  "kernelspec": {
   "display_name": "Python 3",
   "language": "python",
   "name": "python3"
  },
  "language_info": {
   "codemirror_mode": {
    "name": "ipython",
    "version": 3
   },
   "file_extension": ".py",
   "mimetype": "text/x-python",
   "name": "python",
   "nbconvert_exporter": "python",
   "pygments_lexer": "ipython3",
   "version": "3.8.5"
  }
 },
 "nbformat": 4,
 "nbformat_minor": 4
}
